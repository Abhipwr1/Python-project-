{
  "nbformat": 4,
  "nbformat_minor": 0,
  "metadata": {
    "colab": {
      "provenance": []
    },
    "kernelspec": {
      "name": "python3",
      "display_name": "Python 3"
    },
    "language_info": {
      "name": "python"
    }
  },
  "cells": [
    {
      "cell_type": "code",
      "execution_count": 3,
      "metadata": {
        "id": "ar0jSBUM-8EI",
        "colab": {
          "base_uri": "https://localhost:8080/"
        },
        "outputId": "fddbf26b-2c2e-4f8a-a09b-b4310de33e9f"
      },
      "outputs": [
        {
          "output_type": "stream",
          "name": "stdout",
          "text": [
            "mahesh ali jacob "
          ]
        }
      ],
      "source": [
        "#1.printing common names\n",
        "empname=['ramesh', 'suresh', 'mahesh','ali','jacob','saritha']\n",
        "empname2=['ali', 'mukesh', 'mahesh', 'jacob', 'sai','sarita']\n",
        "for i in empname:\n",
        "  for j in empname2:\n",
        "    if i==j:\n",
        "      print(i,end=' ')"
      ]
    },
    {
      "cell_type": "code",
      "source": [
        "#2.name age problem\n",
        "names_string = input(\"Enter names separated by spaces: \")\n",
        "\n",
        "names_list = names_string.split()\n",
        "\n",
        "age_dict = {}\n",
        "for i in names_list:\n",
        "  age=int(input(f\"enter the age for {i}:\"))\n",
        "  age_dict[i]=age\n",
        "for i,j in age_dict.items():\n",
        "  print(f\"{i}:{j}\")\n",
        "\n"
      ],
      "metadata": {
        "colab": {
          "base_uri": "https://localhost:8080/"
        },
        "id": "bGVejzWltvoh",
        "outputId": "579dc46b-d594-49e3-a6e2-81eb9308ec63"
      },
      "execution_count": 4,
      "outputs": [
        {
          "output_type": "stream",
          "name": "stdout",
          "text": [
            "Enter names separated by spaces: abhi rahul bala\n",
            "enter the age for abhi:28\n",
            "enter the age for rahul:22\n",
            "enter the age for bala:18\n",
            "abhi:28\n",
            "rahul:22\n",
            "bala:18\n"
          ]
        }
      ]
    },
    {
      "cell_type": "code",
      "source": [
        "5#3.patients bill\n",
        "vitc,para,azi=33,35,49\n",
        "tot=2000\n",
        "x=3*azi+2*para+5*vitc\n",
        "print(x,tot-x)"
      ],
      "metadata": {
        "colab": {
          "base_uri": "https://localhost:8080/"
        },
        "id": "VAKkdeSY_ddY",
        "outputId": "1423676e-b56c-4aef-afc5-055c5a3a604c"
      },
      "execution_count": 5,
      "outputs": [
        {
          "output_type": "stream",
          "name": "stdout",
          "text": [
            "382 1618\n"
          ]
        }
      ]
    },
    {
      "cell_type": "code",
      "source": [
        "#4.vowels\n",
        "s=input(\"\")\n",
        "count=0\n",
        "l=len(s)\n",
        "for i in s:\n",
        "  if i in ('a','e','i','o','u'):\n",
        "    count+=1\n",
        "print(count)"
      ],
      "metadata": {
        "colab": {
          "base_uri": "https://localhost:8080/"
        },
        "id": "coPleGazAX-c",
        "outputId": "8fafc17e-05bc-4d6c-c4a1-737480465d8a"
      },
      "execution_count": 6,
      "outputs": [
        {
          "output_type": "stream",
          "name": "stdout",
          "text": [
            "abhi bala rahul\n",
            "6\n"
          ]
        }
      ]
    },
    {
      "cell_type": "code",
      "source": [
        "#5.eligibility criteria\n",
        "age=int(input(\"enter your age:\"))\n",
        "if age>18:\n",
        "  print(\"congrats!you are eligible\")\n",
        "else:\n",
        "  age=18-age\n",
        "  print(f\"return after {age} years\")"
      ],
      "metadata": {
        "colab": {
          "base_uri": "https://localhost:8080/"
        },
        "id": "U-vw6yfbEvtk",
        "outputId": "f8ff3e2d-3e9b-4240-bc6b-38a6255dc871"
      },
      "execution_count": 8,
      "outputs": [
        {
          "output_type": "stream",
          "name": "stdout",
          "text": [
            "enter your age:15\n",
            "return after 3 years\n"
          ]
        }
      ]
    },
    {
      "cell_type": "code",
      "source": [
        "#6.cumulative sum of list\n",
        "A = [1, 2, 3, 4, 5]\n",
        "sum=0\n",
        "l=[]\n",
        "for i in A:\n",
        "  sum=i+sum\n",
        "  l.append(sum)\n",
        "print(l)\n",
        "\n",
        "\n",
        "\n",
        "\n"
      ],
      "metadata": {
        "colab": {
          "base_uri": "https://localhost:8080/"
        },
        "id": "tG7BjRkLI65Q",
        "outputId": "7805c773-72eb-4a87-80aa-8bbd7694dc29"
      },
      "execution_count": 9,
      "outputs": [
        {
          "output_type": "stream",
          "name": "stdout",
          "text": [
            "[1, 3, 6, 10, 15]\n"
          ]
        }
      ]
    },
    {
      "cell_type": "code",
      "source": [
        "#7.encoding word\n",
        "word=input(\"please enter your text\")\n",
        "enword=word.split()\n",
        "print(enword)\n",
        "enc=''\n",
        "for i in enword:\n",
        "\n",
        "  if i[0] in ('a','e','i','o','u'):\n",
        "    enc=enc+i[0]+i[-1]+' '\n",
        "\n",
        "  else:\n",
        "    for j in i:\n",
        "      if j not in ('a','e','i','o','u'):\n",
        "       enc=enc+j\n",
        "    enc=enc+' '\n",
        "print(enc)"
      ],
      "metadata": {
        "id": "uJTnkn-RLJv_",
        "colab": {
          "base_uri": "https://localhost:8080/"
        },
        "outputId": "13f63ca6-8c20-49c2-b689-838ca1891c82"
      },
      "execution_count": 10,
      "outputs": [
        {
          "output_type": "stream",
          "name": "stdout",
          "text": [
            "please enter your textabhi rahl bala\n",
            "['abhi', 'rahl', 'bala']\n",
            "ai rhl bl \n"
          ]
        }
      ]
    },
    {
      "cell_type": "code",
      "source": [
        "#8\n",
        "word=input(\"enter a word:\")\n",
        "count=1\n",
        "enc=''\n",
        "leng=len(word)\n",
        "\n",
        "for i in range(1,leng):\n",
        " if word[i]==word[i-1]:\n",
        "  count=count+1\n",
        "\n",
        " else:\n",
        "  enc=enc+str(count)+word[i-1]\n",
        "\n",
        "  count=1\n",
        "enc=enc+str(count)+word[-1]\n",
        "print(enc)"
      ],
      "metadata": {
        "id": "H3yS_kwcPp4X",
        "colab": {
          "base_uri": "https://localhost:8080/"
        },
        "outputId": "db1e178a-0dc4-440a-879f-e49d6dfdb5ec"
      },
      "execution_count": 11,
      "outputs": [
        {
          "output_type": "stream",
          "name": "stdout",
          "text": [
            "enter a word:aabbbcccddd\n",
            "2a3b3c3d\n"
          ]
        }
      ]
    },
    {
      "cell_type": "code",
      "source": [
        "\n"
      ],
      "metadata": {
        "id": "Spr5jxfGesbh"
      },
      "execution_count": null,
      "outputs": []
    },
    {
      "cell_type": "code",
      "source": [],
      "metadata": {
        "id": "M7detmXPiZoe"
      },
      "execution_count": null,
      "outputs": []
    }
  ]
}